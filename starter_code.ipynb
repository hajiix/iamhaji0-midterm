{
 "cells": [
  {
   "cell_type": "markdown",
   "metadata": {},
   "source": [
    "# Libraries"
   ]
  },
  {
   "cell_type": "code",
   "execution_count": 194,
   "metadata": {},
   "outputs": [
    {
     "name": "stderr",
     "output_type": "stream",
     "text": [
      "[nltk_data] Downloading package punkt_tab to /Users/haji/nltk_data...\n",
      "[nltk_data]   Package punkt_tab is already up-to-date!\n",
      "[nltk_data] Downloading package stopwords to /Users/haji/nltk_data...\n",
      "[nltk_data]   Package stopwords is already up-to-date!\n",
      "[nltk_data] Downloading package punkt to /Users/haji/nltk_data...\n",
      "[nltk_data]   Package punkt is already up-to-date!\n",
      "[nltk_data] Downloading package wordnet to /Users/haji/nltk_data...\n",
      "[nltk_data]   Package wordnet is already up-to-date!\n"
     ]
    }
   ],
   "source": [
    "import pickle\n",
    "import pandas as pd\n",
    "import seaborn as sns\n",
    "from os.path import exists\n",
    "import matplotlib.pyplot as plt\n",
    "from sklearn.neighbors import KNeighborsClassifier\n",
    "from sklearn.model_selection import train_test_split\n",
    "from sklearn.metrics import accuracy_score, confusion_matrix\n",
    "from textblob import TextBlob\n",
    "import nltk\n",
    "nltk.download('punkt_tab')\n",
    "nltk.download('stopwords')\n",
    "nltk.download('punkt')\n",
    "from nltk.corpus import stopwords\n",
    "from nltk.tokenize import word_tokenize\n",
    "from nltk.stem import WordNetLemmatizer\n",
    "nltk.download('wordnet')\n",
    "from sklearn.preprocessing import StandardScaler\n",
    "from sklearn.model_selection import GridSearchCV\n",
    "from imblearn.under_sampling import RandomUnderSampler\n",
    "from imblearn.over_sampling import SMOTE\n",
    "from sklearn.feature_extraction.text import TfidfVectorizer\n",
    "from sklearn.decomposition import TruncatedSVD\n",
    "from sklearn.preprocessing import LabelEncoder\n",
    "from sklearn.ensemble import RandomForestClassifier\n",
    "\n",
    "\n",
    "\n",
    "\n",
    "\n",
    "\n"
   ]
  },
  {
   "cell_type": "markdown",
   "metadata": {},
   "source": [
    "# Loading the Files\n",
    "\n",
    "Download the csv files into the `data/` directory."
   ]
  },
  {
   "cell_type": "code",
   "execution_count": 125,
   "metadata": {},
   "outputs": [
    {
     "name": "stdout",
     "output_type": "stream",
     "text": [
      "train.csv shape is  (1697533, 9)\n",
      "test.csv shape is  (212192, 2)\n",
      "\n",
      "        Id   ProductId          UserId  HelpfulnessNumerator  \\\n",
      "0   914403  B0009W5KHM   AV6QDP8Q0ONK4                     2   \n",
      "1   354887  6303079709  A2I8RXJN80A2D2                     0   \n",
      "2  1407653  B004H0M2XC  A3FHV3RV8Z12E6                     0   \n",
      "3  1377458  B003ZJ9536  A12VLTA3ZHVPUY                     1   \n",
      "4   475323  630574453X  A13NM1PES9OXVN                     2   \n",
      "\n",
      "   HelpfulnessDenominator        Time  \\\n",
      "0                       2  1341014400   \n",
      "1                       0  1168819200   \n",
      "2                       0  1386201600   \n",
      "3                       1  1348704000   \n",
      "4                       3   970012800   \n",
      "\n",
      "                                         Summary  \\\n",
      "0                                  GOOD FUN FILM   \n",
      "1                                   Movie Review   \n",
      "2             When is it a good time to Consent?   \n",
      "3                                          TRUTH   \n",
      "4  Intelligent and bittersweet -- stays with you   \n",
      "\n",
      "                                                Text  Score  \n",
      "0  While most straight to DVD films are not worth...    5.0  \n",
      "1  I have wanted this one for sometime, also.  I ...    5.0  \n",
      "2  Actually this was a pretty darn good indie fil...    4.0  \n",
      "3  Episodes 37 to 72 of the series press on in a ...    5.0  \n",
      "4  I was really impressed with this movie, but wa...    3.0  \n",
      "\n",
      "        Id  Score\n",
      "0  1323432    NaN\n",
      "1  1137299    NaN\n",
      "2  1459366    NaN\n",
      "3   931601    NaN\n",
      "4  1311995    NaN\n",
      "\n",
      "                 Id  HelpfulnessNumerator  HelpfulnessDenominator  \\\n",
      "count  1.697533e+06          1.697533e+06            1.697533e+06   \n",
      "mean   8.487660e+05          3.569048e+00            5.301422e+00   \n",
      "std    4.900357e+05          1.727883e+01            2.024445e+01   \n",
      "min    0.000000e+00          0.000000e+00            0.000000e+00   \n",
      "25%    4.243830e+05          0.000000e+00            0.000000e+00   \n",
      "50%    8.487660e+05          1.000000e+00            1.000000e+00   \n",
      "75%    1.273149e+06          3.000000e+00            5.000000e+00   \n",
      "max    1.697532e+06          6.084000e+03            6.510000e+03   \n",
      "\n",
      "               Time         Score  \n",
      "count  1.697533e+06  1.485341e+06  \n",
      "mean   1.262422e+09  4.110517e+00  \n",
      "std    1.289277e+08  1.197651e+00  \n",
      "min    8.793792e+08  1.000000e+00  \n",
      "25%    1.164413e+09  4.000000e+00  \n",
      "50%    1.307491e+09  5.000000e+00  \n",
      "75%    1.373242e+09  5.000000e+00  \n",
      "max    1.406074e+09  5.000000e+00  \n"
     ]
    },
    {
     "data": {
      "image/png": "[encoded data removed]",
      "text/plain": [
       "<Figure size 640x480 with 1 Axes>"
      ]
     },
     "metadata": {},
     "output_type": "display_data"
    },
    {
     "name": "stdout",
     "output_type": "stream",
     "text": [
      "\n",
      "EVERYTHING IS PROPERLY SET UP! YOU ARE READY TO START\n"
     ]
    }
   ],
   "source": [
    "trainingSet = pd.read_csv(\"./data/train.csv\")\n",
    "testingSet = pd.read_csv(\"./data/test.csv\")\n",
    "\n",
    "print(\"train.csv shape is \", trainingSet.shape)\n",
    "print(\"test.csv shape is \", testingSet.shape)\n",
    "\n",
    "print()\n",
    "\n",
    "print(trainingSet.head())\n",
    "print()\n",
    "print(testingSet.head())\n",
    "\n",
    "print()\n",
    "\n",
    "print(trainingSet.describe())\n",
    "\n",
    "label_encoder = LabelEncoder()\n",
    "trainingSet['UserId'] = label_encoder.fit_transform(trainingSet['UserId'])\n",
    "\n",
    "trainingSet['Score'].value_counts().plot(kind='bar', legend=True, alpha=.5)\n",
    "plt.show()\n",
    "\n",
    "print()\n",
    "print(\"EVERYTHING IS PROPERLY SET UP! YOU ARE READY TO START\")"
   ]
  },
  {
   "cell_type": "markdown",
   "metadata": {},
   "source": [
    "# Adding Features"
   ]
  },
  {
   "cell_type": "code",
   "execution_count": 201,
   "metadata": {},
   "outputs": [],
   "source": [
    "lemmatizer = WordNetLemmatizer()\n",
    "stop_words = set(stopwords.words('english'))\n",
    "tfidf = TfidfVectorizer(max_features=5000, ngram_range=(1, 2), stop_words='english')\n",
    "\n",
    "def remove_stopwords(text):\n",
    "    tokens = word_tokenize(text)\n",
    "    tokens = [lemmatizer.lemmatize(t) for t in tokens if t.lower() not in stop_words and t.isalpha()]\n",
    "    return ' '.join(tokens)\n",
    "\n",
    "def get_sentiment(text):\n",
    "    if isinstance(text, float):\n",
    "        text = str(text)\n",
    "    text = remove_stopwords(text)\n",
    "    blob = TextBlob(text)\n",
    "    \n",
    "    # Get the sentiment polarity\n",
    "    polarity = blob.sentiment.polarity\n",
    "    subjectivity = blob.sentiment.subjectivity\n",
    "\n",
    "    return (polarity, subjectivity)\n",
    "    \n",
    "\n",
    "def add_features_to(df):\n",
    "    # This is where you can do all your feature extraction\n",
    "\n",
    "    df['Polarity'], df['Subjectivity'] = zip(*df['Text'].apply(get_sentiment))\n",
    "    df['Polarity2'], df['Subjectivity2'] = zip(*df['Summary'].apply(get_sentiment))\n",
    "    df['Helpfulness'] = df['HelpfulnessNumerator'] / df['HelpfulnessDenominator']\n",
    "    df['Helpfulness'] = df['Helpfulness'].fillna(0)\n",
    "    df['WordCount'] = df['Text'].apply(lambda x: len(word_tokenize(x)) if isinstance(x, str) else 0)\n",
    "\n",
    "    tfidf_matrix = tfidf.fit_transform(df['Text'].fillna(\"\"))\n",
    "    tfidf_df = pd.DataFrame(tfidf_matrix.toarray(), columns=tfidf.get_feature_names_out())\n",
    "    \n",
    "    # Combine original features with TF-IDF features\n",
    "    df_combined = pd.concat([df.reset_index(drop=True), tfidf_df.reset_index(drop=True)], axis=1)\n",
    "    \n",
    "    return df_combined\n",
    "    \n",
    "\n",
    "# Load the feature extracted files if they've already been generated\n",
    "if exists('./data/X_train.csv'):\n",
    "    X_train = pd.read_csv(\"./data/X_train.csv\")\n",
    "if exists('./data/X_submission.csv'):\n",
    "    X_submission = pd.read_csv(\"./data/X_submission.csv\")\n",
    "\n",
    "else:\n",
    "    # Process the DataFrame\n",
    "    trainingSet_sampled = trainingSet.sample(frac=0.02)\n",
    "    train = add_features_to(trainingSet)\n",
    "\n",
    "    # Merge on Id so that the submission set can have feature columns as well\n",
    "    X_submission = pd.merge(train, testingSet, left_on='Id', right_on='Id')\n",
    "    X_submission = X_submission.drop(columns=['Score_x'])\n",
    "    X_submission = X_submission.rename(columns={'Score_y': 'Score'})\n",
    "\n",
    "    # The training set is where the score is not null\n",
    "    X_train =  train[train['Score'].notnull()]\n",
    "\n",
    "    X_submission.to_csv(\"./data/X_submission.csv\", index=False)\n",
    "    X_train.to_csv(\"./data/X_train.csv\", index=False)"
   ]
  },
  {
   "cell_type": "markdown",
   "metadata": {},
   "source": [
    "# Sample + Split into training and testing set"
   ]
  },
  {
   "cell_type": "code",
   "execution_count": 202,
   "metadata": {},
   "outputs": [
    {
     "name": "stdout",
     "output_type": "stream",
     "text": [
      "            Id   ProductId  UserId  HelpfulnessNumerator  \\\n",
      "6390    455990  6305248052   15577                     2   \n",
      "24547   152499  0792845129   52358                     2   \n",
      "32327  1659092  B00DL48BM6   17240                     0   \n",
      "6073    967032  B000E33VWW   82377                     0   \n",
      "16038   162706  0800129806   22243                     1   \n",
      "\n",
      "       HelpfulnessDenominator        Time  \\\n",
      "6390                        3  1336953600   \n",
      "24547                       5  1029801600   \n",
      "32327                       0  1404000000   \n",
      "6073                        0  1161648000   \n",
      "16038                       2   998092800   \n",
      "\n",
      "                                       Summary  \\\n",
      "6390                            Bland Transfer   \n",
      "24547               \"Dance, Muthafuka! Dance!\"   \n",
      "32327                        The Monuments Men   \n",
      "6073   \"Glistened like Christmas Tree Snow...\"   \n",
      "16038                    Not Exellent, Not Bad   \n",
      "\n",
      "                                                    Text  Polarity  \\\n",
      "6390   The movie is fun for me, old school dark toned...  0.333333   \n",
      "24547  \"Platoon\" is the definitive movie about the Am...  1.062500   \n",
      "32327  The story was slow and my husband and I really...  0.723214   \n",
      "6073   I can't say anything about this movie that pro...  0.357438   \n",
      "16038  Some people believe that this is just another ...  0.497299   \n",
      "\n",
      "       Subjectivity  ...  young boy  young girl  young man  young woman  \\\n",
      "6390       1.759259  ...        0.0         0.0        0.0          0.0   \n",
      "24547      2.390625  ...        0.0         0.0        0.0          0.0   \n",
      "32327      1.892857  ...        0.0         0.0        0.0          0.0   \n",
      "6073       3.199036  ...        0.0         0.0        0.0          0.0   \n",
      "16038      2.943563  ...        0.0         0.0        0.0          0.0   \n",
      "\n",
      "       younger  youth  zero  zombie  zombies  zone  \n",
      "6390       0.0    0.0   0.0     0.0      0.0   0.0  \n",
      "24547      0.0    0.0   0.0     0.0      0.0   0.0  \n",
      "32327      0.0    0.0   0.0     0.0      0.0   0.0  \n",
      "6073       0.0    0.0   0.0     0.0      0.0   0.0  \n",
      "16038      0.0    0.0   0.0     0.0      0.0   0.0  \n",
      "\n",
      "[5 rows x 5014 columns]\n",
      "            Id   ProductId  UserId  HelpfulnessNumerator  \\\n",
      "6498   1034466  B000KJTFBG   54472                     3   \n",
      "31555  1451724  B0059XTV4Y   60866                     3   \n",
      "31714    65167  0783234066   76781                     0   \n",
      "12645    53635  0783225849   84017                     1   \n",
      "23143   730173  B00007KK1V   85965                    23   \n",
      "\n",
      "       HelpfulnessDenominator        Time  \\\n",
      "6498                        7  1172448000   \n",
      "31555                       3  1346889600   \n",
      "31714                       0  1393286400   \n",
      "12645                       1  1141084800   \n",
      "23143                      26  1141689600   \n",
      "\n",
      "                                                 Summary  \\\n",
      "6498                                               pelts   \n",
      "31555                           Not exactly illuminating   \n",
      "31714                                    My son Loves it   \n",
      "12645                   The defintion of Absolute terror   \n",
      "23143  Most realistic portrayal of The Little Flower ...   \n",
      "\n",
      "                                                    Text  Polarity  \\\n",
      "6498   This movie was exellently done . meatloaf was ...  1.583333   \n",
      "31555  A fairly well made picture but it is certainly...  1.011533   \n",
      "31714  Got this for my son for his birthday, he loves...  1.625000   \n",
      "12645  My Grandmother was  about 30. She was a big fa...  0.105903   \n",
      "23143  Unlike some of the more vehement reviews citin...  0.750000   \n",
      "\n",
      "       Subjectivity  ...  young boy  young girl  young man  young woman  \\\n",
      "6498       1.833333  ...        0.0         0.0        0.0          0.0   \n",
      "31555      3.005580  ...        0.0         0.0        0.0          0.0   \n",
      "31714      2.250000  ...        0.0         0.0        0.0          0.0   \n",
      "12645      2.569444  ...        0.0         0.0        0.0          0.0   \n",
      "23143      2.403175  ...        0.0         0.0        0.0          0.0   \n",
      "\n",
      "       younger  youth  zero  zombie  zombies  zone  \n",
      "6498       0.0    0.0   0.0     0.0      0.0   0.0  \n",
      "31555      0.0    0.0   0.0     0.0      0.0   0.0  \n",
      "31714      0.0    0.0   0.0     0.0      0.0   0.0  \n",
      "12645      0.0    0.0   0.0     0.0      0.0   0.0  \n",
      "23143      0.0    0.0   0.0     0.0      0.0   0.0  \n",
      "\n",
      "[5 rows x 5014 columns]\n"
     ]
    }
   ],
   "source": [
    "# Split training set into training and testing set\n",
    "X_train, X_test, Y_train, Y_test = train_test_split(\n",
    "    X_train.drop(columns=['Score']),\n",
    "    X_train['Score'],\n",
    "    test_size=1/4.0,\n",
    "    random_state=1,\n",
    "    stratify=X_train['Score']\n",
    ")\n",
    "\n",
    "print(X_train.head())\n",
    "print(X_test.head())"
   ]
  },
  {
   "cell_type": "markdown",
   "metadata": {},
   "source": [
    "# Feature Selection"
   ]
  },
  {
   "cell_type": "code",
   "execution_count": 203,
   "metadata": {},
   "outputs": [],
   "source": [
    "def get_available_features(df, feature_list):\n",
    "    return [f for f in feature_list if f in df.columns]\n",
    "features = ['HelpfulnessNumerator', 'HelpfulnessDenominator', 'Helpfulness', 'Polarity', \"Polarity2\" ,\"Subjectivity\", \"Subjectivity2\", 'WordCount', 'UserId']\n",
    "\n",
    "# Apply feature selection\n",
    "available_features_train = get_available_features(X_train, features)\n",
    "available_features_test = get_available_features(X_test, features)\n",
    "available_features_submission = get_available_features(X_submission, features)\n",
    "\n",
    "# Select features from each dataset\n",
    "X_train_select = X_train[available_features_train]\n",
    "X_test_select = X_test[available_features_test]\n",
    "X_submission_select = X_submission[available_features_submission]\n",
    "\n",
    "rus = x(random_state=42)\n",
    "smote = SMOTE(random_state=42)\n",
    "\n",
    "X_resampled, y_resampled = rus.fit_resample(X_train_select, Y_train)\n",
    "X_resampled, y_resampled = smote.fit_resample(X_resampled, y_resampled)\n",
    "\n",
    "common_features = X_resampled.columns.intersection(X_test_select.columns)\n",
    "X_resampled = X_resampled[common_features]\n",
    "X_test_select = X_test_select[common_features]\n",
    "X_submission_select = X_submission_select[common_features]"
   ]
  },
  {
   "cell_type": "markdown",
   "metadata": {},
   "source": [
    "# Model Creation"
   ]
  },
  {
   "cell_type": "code",
   "execution_count": 204,
   "metadata": {},
   "outputs": [],
   "source": [
    "scaler = StandardScaler()\n",
    "X_resampled_scaled = scaler.fit_transform(X_resampled)\n",
    "\n",
    "# Learn the model\n",
    "param_grid = {\n",
    "    'n_estimators': [100, 200, 300],  # Increased to see if more trees help\n",
    "    'max_depth': [None, 10, 20, 30], \n",
    "    'min_samples_split': [2, 5, 10],\n",
    "    'min_samples_leaf': [1, 2, 4]\n",
    "}\n",
    "grid_search = GridSearchCV(RandomForestClassifier(random_state=42), param_grid, cv=5)\n",
    "grid_search.fit(X_resampled_scaled, y_resampled)\n",
    "model = grid_search.best_estimator_\n",
    "\n",
    "# Predict the score using the model\n",
    "X_test_select_scaled = scaler.transform(X_test_select)\n",
    "Y_test_predictions = model.predict(X_test_select_scaled)"
   ]
  },
  {
   "cell_type": "markdown",
   "metadata": {},
   "source": [
    "# Model Evaluation"
   ]
  },
  {
   "cell_type": "code",
   "execution_count": 206,
   "metadata": {},
   "outputs": [
    {
     "name": "stdout",
     "output_type": "stream",
     "text": [
      "Accuracy on testing set =  0.4569848975188781\n"
     ]
    },
    {
     "data": {
      "image/png": "[encoded data removed]",
      "text/plain": [
       "<Figure size 640x480 with 2 Axes>"
      ]
     },
     "metadata": {},
     "output_type": "display_data"
    }
   ],
   "source": [
    "# Evaluate your model on the testing set\n",
    "print(\"Accuracy on testing set = \", accuracy_score(Y_test, Y_test_predictions))\n",
    "\n",
    "# Plot a confusion matrix\n",
    "cm = confusion_matrix(Y_test, Y_test_predictions, normalize='true')\n",
    "sns.heatmap(cm, annot=True)\n",
    "plt.title('Confusion matrix of the classifier')\n",
    "plt.xlabel('Predicted')\n",
    "plt.ylabel('True')\n",
    "plt.show()"
   ]
  },
  {
   "cell_type": "markdown",
   "metadata": {},
   "source": [
    "# Create submission file"
   ]
  },
  {
   "cell_type": "code",
   "execution_count": 74,
   "metadata": {},
   "outputs": [
    {
     "name": "stderr",
     "output_type": "stream",
     "text": [
      "/Library/Frameworks/Python.framework/Versions/3.11/lib/python3.11/site-packages/sklearn/base.py:458: UserWarning: X has feature names, but KNeighborsClassifier was fitted without feature names\n",
      "  warnings.warn(\n"
     ]
    }
   ],
   "source": [
    "# Create the submission file\n",
    "X_submission['Score'] = model.predict(X_submission_select)\n",
    "submission = X_submission[['Id', 'Score']]\n",
    "submission.to_csv(\"./data/submission.csv\", index=False)"
   ]
  }
 ],
 "metadata": {
  "kernelspec": {
   "display_name": "env",
   "language": "python",
   "name": "python3"
  },
  "language_info": {
   "codemirror_mode": {
    "name": "ipython",
    "version": 3
   },
   "file_extension": ".py",
   "mimetype": "text/x-python",
   "name": "python",
   "nbconvert_exporter": "python",
   "pygments_lexer": "ipython3",
   "version": "3.11.1"
  }
 },
 "nbformat": 4,
 "nbformat_minor": 2
}
